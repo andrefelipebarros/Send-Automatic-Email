{
 "cells": [
  {
   "cell_type": "code",
   "execution_count": null,
   "metadata": {},
   "outputs": [],
   "source": [
    "#import libraries with command: \"pip install\" and write the name of the librarie(smtplib and schedule).\n",
    "import os\n",
    "import smtplib \n",
    "from email.message import EmailMessage\n",
    "import schedule"
   ]
  },
  {
   "cell_type": "code",
   "execution_count": null,
   "metadata": {},
   "outputs": [],
   "source": [
    "#Adding your Email (Google: \"gmail\")\n",
    "\n",
    "email = \"seuemail@gmail.com\""
   ]
  },
  {
   "cell_type": "code",
   "execution_count": null,
   "metadata": {},
   "outputs": [],
   "source": [
    "'''here, you will visit your google and make the following settings:\n",
    "1-Enable two-factor option.\n",
    "2- Visit: https://myaccount.google.com/apppasswords\n",
    "3- Generate password with google email category.\n",
    "4- put password in a notepad file.'''\n",
    "\n",
    "with open('senha.txt') as f: #upload previously developed notepad file\n",
    "    senha = f.readlines() #Consult file \n",
    "    \n",
    "    f.close() #Stop Consult File\n",
    "    \n",
    "senha_do_email = senha[0]\n",
    "\n",
    "senha_do_email"
   ]
  },
  {
   "cell_type": "code",
   "execution_count": null,
   "metadata": {},
   "outputs": [],
   "source": [
    "msg = EmailMessage()\n",
    "msg['Subject']  = 'Enviando e-mail com Python'\n",
    "msg['From'] = 'seuemail@gmail.com'\n",
    "msg['To'] = 'qualquercoisa@gmail.com'\n",
    "msg.set_content(\"Segue o relatório diário\")"
   ]
  },
  {
   "cell_type": "code",
   "execution_count": null,
   "metadata": {},
   "outputs": [],
   "source": [
    "#Example of attaching file\n",
    "\n",
    "with open('minecraft.pdf', 'rb') as content_file:\n",
    "    content = content_file.read()\n",
    "    msg.add_attachment(content, maintype='application', subtype='pdf', filename='minecraft.pdf')"
   ]
  },
  {
   "cell_type": "code",
   "execution_count": null,
   "metadata": {},
   "outputs": [],
   "source": [
    "#Sending Email\n",
    "\n",
    "with smtplib.SMTP_SSL('smtp.gmail.com', 465) as smtp:\n",
    "    \n",
    "    smtp.login(email, senha_do_email)\n",
    "    smtp.send_message(msg)"
   ]
  },
  {
   "cell_type": "code",
   "execution_count": null,
   "metadata": {},
   "outputs": [],
   "source": [
    "#Now Add the codes in a \"def\" and create a time with schedule tasks\n",
    "\n",
    "schedule.every().hours.at(\"06:00\").do('''Your-Def-Name''') #enter the codes on the Clock at 6:00 am\n",
    "\n",
    "while 1:\n",
    "    schedule.run_pending() #Play in the schedule\n"
   ]
  }
 ],
 "metadata": {
  "language_info": {
   "name": "python"
  },
  "orig_nbformat": 4
 },
 "nbformat": 4,
 "nbformat_minor": 2
}
